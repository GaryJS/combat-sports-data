{
 "cells": [
  {
   "cell_type": "markdown",
   "id": "c825ca7c",
   "metadata": {},
   "source": [
    "# Assignment #1 - Data Gathering and Warehousing - DSSA-5102"
   ]
  },
  {
   "cell_type": "markdown",
   "id": "3e792669",
   "metadata": {},
   "source": [
    "Instructor: Melissa Laurino<br>\n",
    "Spring 2025"
   ]
  },
  {
   "cell_type": "markdown",
   "id": "db9fe204",
   "metadata": {},
   "source": [
    "Name:\n",
    "<br>\n",
    "Date:"
   ]
  },
  {
   "cell_type": "markdown",
   "id": "292e9143",
   "metadata": {},
   "source": [
    "<b>Data. Is. Everywhere.</b> <br>\n",
    "Our first objective is to locate and explore <b>TWO</b> datasets about something you are passionate about, or related to a field you would like to work in. Our semester plan is <i>try</i> to work with the same dataset through out the semester. You can find and explore as many datasets as you wish, but Assignment #2 will focus on the one you like the best.\n",
    "There are many great websites that offer public datasets avaialable to download. Examples include but are not limited to:\n",
    "<br>\n",
    "Data.gov - https://data.gov/ - has many government owened public datasets.<br>\n",
    "World Bank Data - https://data.worldbank.org/ - has world economic, social, and environmental data.<br>\n",
    "Google Dataset Search - https://datasetsearch.research.google.com/ - many of these available datasets link to published studies available on Google Scholar in many fields.<br>\n",
    "Kaggle Datasets - https://www.kaggle.com/datasets - a platform for sharing datasets. Anyone can upload to this website.<br>\n",
    "U.S. Census Bureau - https://www.census.gov/ - data on people, places and econoy for the United States.\n",
    "GitHub - https://github.com/ - hosts datasets and completed projects.<br>\n",
    "Federal Reserve Economic Data (FRED) - https://fred.stlouisfed.org/ - Financial and economic data.<br>\n",
    "CDC - https://data.cdc.gov/ - Explore the various data collected by the CDC.<br>\n",
    "NOAA - https://www.ncei.noaa.gov/cdo-web/ - NOAA climate and ocean data. <br>\n",
    "<br>\n",
    "In addition to these resources, occasionally local organizations may be able to provide you with data, or maybe even your own company! Your data source can come from a personal connection, but please be mindful of any data agreements or approvals you may need. If you need approval to use data from your place of employment, please specify that with the instructor so we can ensure no violations to your data agreement will be made this semester.\n",
    "<br>\n",
    "<br>\n",
    "Resources for learning Python:\n",
    "- Data camp - https://www.datacamp.com/category/python - Contact Professor Baldwin for access.<br>\n",
    "- Data Science from Scratch: First Principles with Python - Check Blackboard <br>\n",
    "- Python for Data Analysis Data Wrangling with pandas, NumPy & Jupyter - Check Blackboard"
   ]
  },
  {
   "cell_type": "markdown",
   "id": "712dad64-6ed8-4680-90b7-4e47833e6887",
   "metadata": {},
   "source": [
    "For Assignment #1, our objective is to locate and explore two different datasets using Python. We will choose one of these datasets to clean to prepare for our future database. For each dataset include: <br>\n",
    "- The dataset name, company/organization resonsible for data collection, the download link, and date of access. <br>\n",
    "- Load neccessary packages <br>\n",
    "- Obtain the general info for your data such as size, number of rows/columns, column names, describing the data etc. <br>\n",
    "- What are the unique columns or variables present in your dataset? <br>\n",
    "- Create one quick plot to visualize your data. It is okay if it is messy since your data has not been cleaned yet, but still make sure you are practicing good graphins with a title, axis labels, and anything else needed for your graph.  <br>\n",
    "\n",
    "Comment ALL code to recieve full credit. The above bullet points are to help guide you in your process, but extensive exploration is expected for each data set. <br>\n",
    "<br>\n",
    "Explore various markdown font settings: https://ingeh.medium.com/markdown-for-jupyter-notebooks-cheatsheet-386c05aeebed"
   ]
  },
  {
   "cell_type": "markdown",
   "id": "6c5eadb4",
   "metadata": {},
   "source": [
    "## Dataset #1"
   ]
  },
  {
   "cell_type": "markdown",
   "id": "0bf03c2c",
   "metadata": {},
   "source": [
    "<b>Dataset name: One Championship Muay Thai fighter dataset</b><br>\n",
    "<b>Company/Government Organization: Web scraped from ONE championship website</b><br>\n",
    "Download link:https://raw.githubusercontent.com/GaryJS/one-championship-fighters/refs/heads/main/all_fighter_data_final.csv  <br>\n",
    "Date of Access: 2024"
   ]
  },
  {
   "cell_type": "markdown",
   "id": "55a352bf",
   "metadata": {},
   "source": [
    "Popular packages to load in working with Python: <br>\n",
    "pandas: https://pandas.pydata.org/about/index.html <br>\n",
    "numpy: https://numpy.org/learn/ <br>\n",
    "matplotlib: https://matplotlib.org/stable/api/pyplot_summary.html"
   ]
  },
  {
   "cell_type": "code",
   "execution_count": 1,
   "id": "f274f2ae",
   "metadata": {
    "scrolled": true
   },
   "outputs": [],
   "source": [
    "# My examples are below, but edit as needed to fit your dataset:\n",
    "import pandas as pd # Reads, writes, shapes, manipulates data\n",
    "import numpy as np # Basic stats and numerical operations\n",
    "import matplotlib.pyplot as plt #graphing\n",
    "from pandasgui import show #shows data frame in separate window\n",
    "import seaborn as sns #graphing"
   ]
  },
  {
   "cell_type": "markdown",
   "id": "79c86913",
   "metadata": {},
   "source": [
    "Importing a library as an abbreviation is beneficial to shorten your code and make it more concise. <br>\n",
    "For example, when referencing your data frame without the abbreviation you would write: pandas.DataFrame <br>\n",
    "With an abbreviation, you can just write: pd.DataFrame"
   ]
  },
  {
   "cell_type": "markdown",
   "id": "de7e9968-efb1-482d-b7f7-c309228fbbde",
   "metadata": {},
   "source": [
    "Load your chosen dataset into the notebook below:"
   ]
  },
  {
   "cell_type": "code",
   "execution_count": 3,
   "id": "8dbcdffd",
   "metadata": {},
   "outputs": [],
   "source": [
    "data = pd.read_csv(\"c:/Users/gary1/Documents/DSSA/Spring/all_fighter_data_final.csv\")\n"
   ]
  },
  {
   "cell_type": "code",
   "execution_count": 4,
   "id": "2fc0d288",
   "metadata": {},
   "outputs": [
    {
     "name": "stderr",
     "output_type": "stream",
     "text": [
      "PandasGUI INFO — pandasgui.gui — Opening PandasGUI\n",
      "c:\\Python312\\Lib\\site-packages\\pandasgui\\widgets\\column_viewer.py:107: FutureWarning: Series.__getitem__ treating keys as positions is deprecated. In a future version, integer keys will always be treated as labels (consistent with DataFrame behavior). To access a value by position, use `ser.iloc[pos]`\n",
      "  [str(sources[i]), str(source_nunique[i]), str(source_types[i])])\n",
      "c:\\Python312\\Lib\\site-packages\\pandasgui\\widgets\\column_viewer.py:107: FutureWarning: Series.__getitem__ treating keys as positions is deprecated. In a future version, integer keys will always be treated as labels (consistent with DataFrame behavior). To access a value by position, use `ser.iloc[pos]`\n",
      "  [str(sources[i]), str(source_nunique[i]), str(source_types[i])])\n",
      "c:\\Python312\\Lib\\site-packages\\pandasgui\\widgets\\column_viewer.py:107: FutureWarning:\n",
      "\n",
      "Series.__getitem__ treating keys as positions is deprecated. In a future version, integer keys will always be treated as labels (consistent with DataFrame behavior). To access a value by position, use `ser.iloc[pos]`\n",
      "\n",
      "c:\\Python312\\Lib\\site-packages\\pandasgui\\widgets\\column_viewer.py:107: FutureWarning:\n",
      "\n",
      "Series.__getitem__ treating keys as positions is deprecated. In a future version, integer keys will always be treated as labels (consistent with DataFrame behavior). To access a value by position, use `ser.iloc[pos]`\n",
      "\n",
      "c:\\Python312\\Lib\\site-packages\\pandasgui\\widgets\\column_viewer.py:107: FutureWarning:\n",
      "\n",
      "Series.__getitem__ treating keys as positions is deprecated. In a future version, integer keys will always be treated as labels (consistent with DataFrame behavior). To access a value by position, use `ser.iloc[pos]`\n",
      "\n",
      "c:\\Python312\\Lib\\site-packages\\pandasgui\\widgets\\column_viewer.py:107: FutureWarning:\n",
      "\n",
      "Series.__getitem__ treating keys as positions is deprecated. In a future version, integer keys will always be treated as labels (consistent with DataFrame behavior). To access a value by position, use `ser.iloc[pos]`\n",
      "\n"
     ]
    },
    {
     "data": {
      "text/plain": [
       "<pandasgui.gui.PandasGui at 0x263df39f2f0>"
      ]
     },
     "execution_count": 4,
     "metadata": {},
     "output_type": "execute_result"
    }
   ],
   "source": [
    "# Load the locally stored CSV file as a dataframe\n",
    "show(data)"
   ]
  },
  {
   "cell_type": "markdown",
   "id": "2d345116-947c-4fa3-ac6f-435a8ea06fcb",
   "metadata": {},
   "source": [
    "We can run df.info() to see how large the dataframe is:"
   ]
  },
  {
   "cell_type": "code",
   "execution_count": 5,
   "id": "bfe1d023-2f96-48af-945a-95ce54d937e5",
   "metadata": {},
   "outputs": [
    {
     "name": "stdout",
     "output_type": "stream",
     "text": [
      "<class 'pandas.core.frame.DataFrame'>\n",
      "RangeIndex: 2381 entries, 0 to 2380\n",
      "Data columns (total 8 columns):\n",
      " #   Column        Non-Null Count  Dtype \n",
      "---  ------        --------------  ----- \n",
      " 0   Name          2381 non-null   object\n",
      " 1   Country       2381 non-null   object\n",
      " 2   Weight        1554 non-null   object\n",
      " 3   Height        2362 non-null   object\n",
      " 4   Age           2354 non-null   object\n",
      " 5   Team          2258 non-null   object\n",
      " 6   Fight_Result  2369 non-null   object\n",
      " 7   Fight_Method  2369 non-null   object\n",
      "dtypes: object(8)\n",
      "memory usage: 148.9+ KB\n"
     ]
    }
   ],
   "source": [
    "data.info()"
   ]
  },
  {
   "cell_type": "markdown",
   "id": "7959c595-f3be-4277-8b84-e0aaa92bfd53",
   "metadata": {},
   "source": [
    "\n",
    "getting the number of rows and columns in data set"
   ]
  },
  {
   "cell_type": "code",
   "execution_count": 6,
   "id": "1ed08a0e",
   "metadata": {},
   "outputs": [
    {
     "data": {
      "text/plain": [
       "(2381, 8)"
      ]
     },
     "execution_count": 6,
     "metadata": {},
     "output_type": "execute_result"
    }
   ],
   "source": [
    "n_rows, n_cols = data.shape\n",
    "n_rows, n_cols"
   ]
  },
  {
   "cell_type": "markdown",
   "id": "6a7bcfd3",
   "metadata": {},
   "source": [
    "Converting the list of column names into a string"
   ]
  },
  {
   "cell_type": "code",
   "execution_count": 7,
   "id": "f944fe78-56d8-43af-9677-819b6ead3c10",
   "metadata": {},
   "outputs": [
    {
     "data": {
      "text/plain": [
       "'Name, Country, Weight, Height, Age, Team, Fight_Result, Fight_Method'"
      ]
     },
     "execution_count": 7,
     "metadata": {},
     "output_type": "execute_result"
    }
   ],
   "source": [
    "column_names = \", \".join(data.columns)\n",
    "column_names"
   ]
  },
  {
   "cell_type": "code",
   "execution_count": 8,
   "id": "0b7c5040-0da2-4c7a-8877-faec68d16c5a",
   "metadata": {},
   "outputs": [
    {
     "name": "stdout",
     "output_type": "stream",
     "text": [
      "I have 8 columns in my data set and 2381 rows in my data set. \n",
      "\n",
      "The unique column names in my data set are Name, Country, Weight, Height, Age, Team, Fight_Result, Fight_Method.\n"
     ]
    }
   ],
   "source": [
    "print(f\"I have {n_cols} columns in my data set and {n_rows} rows in my data set. \\n\")\n",
    "print(f\"The unique column names in my data set are {column_names}.\")"
   ]
  },
  {
   "cell_type": "markdown",
   "id": "e24b6448-b634-4b7a-9c69-f9a9353cb354",
   "metadata": {},
   "source": [
    "I am going to keep the NA values for this dataset. A lot of fighters switch weight classes and gyms which will have no significant impact on the analysis."
   ]
  },
  {
   "cell_type": "code",
   "execution_count": 11,
   "id": "afd47637",
   "metadata": {},
   "outputs": [
    {
     "name": "stderr",
     "output_type": "stream",
     "text": [
      "C:\\Users\\gary1\\AppData\\Local\\Temp\\ipykernel_5128\\1446980664.py:2: FutureWarning:\n",
      "\n",
      "A value is trying to be set on a copy of a DataFrame or Series through chained assignment using an inplace method.\n",
      "The behavior will change in pandas 3.0. This inplace method will never work because the intermediate object on which we are setting values always behaves as a copy.\n",
      "\n",
      "For example, when doing 'df[col].method(value, inplace=True)', try using 'df.method({col: value}, inplace=True)' or df[col] = df[col].method(value) instead, to perform the operation inplace on the original object.\n",
      "\n",
      "\n",
      "\n",
      "C:\\Users\\gary1\\AppData\\Local\\Temp\\ipykernel_5128\\1446980664.py:3: FutureWarning:\n",
      "\n",
      "A value is trying to be set on a copy of a DataFrame or Series through chained assignment using an inplace method.\n",
      "The behavior will change in pandas 3.0. This inplace method will never work because the intermediate object on which we are setting values always behaves as a copy.\n",
      "\n",
      "For example, when doing 'df[col].method(value, inplace=True)', try using 'df.method({col: value}, inplace=True)' or df[col] = df[col].method(value) instead, to perform the operation inplace on the original object.\n",
      "\n",
      "\n",
      "\n",
      "PandasGUI INFO — pandasgui.gui — Opening PandasGUI\n"
     ]
    },
    {
     "name": "stdout",
     "output_type": "stream",
     "text": [
      "Name             0\n",
      "Country          0\n",
      "Weight           0\n",
      "Height          19\n",
      "Age             27\n",
      "Team             0\n",
      "Fight_Result    12\n",
      "Fight_Method    12\n",
      "dtype: int64\n"
     ]
    },
    {
     "name": "stderr",
     "output_type": "stream",
     "text": [
      "c:\\Python312\\Lib\\site-packages\\pandasgui\\widgets\\column_viewer.py:107: FutureWarning:\n",
      "\n",
      "Series.__getitem__ treating keys as positions is deprecated. In a future version, integer keys will always be treated as labels (consistent with DataFrame behavior). To access a value by position, use `ser.iloc[pos]`\n",
      "\n",
      "c:\\Python312\\Lib\\site-packages\\pandasgui\\widgets\\column_viewer.py:107: FutureWarning:\n",
      "\n",
      "Series.__getitem__ treating keys as positions is deprecated. In a future version, integer keys will always be treated as labels (consistent with DataFrame behavior). To access a value by position, use `ser.iloc[pos]`\n",
      "\n",
      "c:\\Python312\\Lib\\site-packages\\pandasgui\\widgets\\column_viewer.py:107: FutureWarning:\n",
      "\n",
      "Series.__getitem__ treating keys as positions is deprecated. In a future version, integer keys will always be treated as labels (consistent with DataFrame behavior). To access a value by position, use `ser.iloc[pos]`\n",
      "\n",
      "c:\\Python312\\Lib\\site-packages\\pandasgui\\widgets\\column_viewer.py:107: FutureWarning:\n",
      "\n",
      "Series.__getitem__ treating keys as positions is deprecated. In a future version, integer keys will always be treated as labels (consistent with DataFrame behavior). To access a value by position, use `ser.iloc[pos]`\n",
      "\n",
      "c:\\Python312\\Lib\\site-packages\\pandasgui\\widgets\\column_viewer.py:107: FutureWarning:\n",
      "\n",
      "Series.__getitem__ treating keys as positions is deprecated. In a future version, integer keys will always be treated as labels (consistent with DataFrame behavior). To access a value by position, use `ser.iloc[pos]`\n",
      "\n",
      "c:\\Python312\\Lib\\site-packages\\pandasgui\\widgets\\column_viewer.py:107: FutureWarning:\n",
      "\n",
      "Series.__getitem__ treating keys as positions is deprecated. In a future version, integer keys will always be treated as labels (consistent with DataFrame behavior). To access a value by position, use `ser.iloc[pos]`\n",
      "\n"
     ]
    },
    {
     "data": {
      "text/plain": [
       "<pandasgui.gui.PandasGui at 0x2638a61d0a0>"
      ]
     },
     "execution_count": 11,
     "metadata": {},
     "output_type": "execute_result"
    }
   ],
   "source": [
    "print(data.isna().sum())\n",
    "data['Weight'].fillna('Uknown', inplace = True)\n",
    "data['Team'].fillna('No Team Listed', inplace = True)\n",
    "show(data)"
   ]
  },
  {
   "cell_type": "markdown",
   "id": "7ae5af9d",
   "metadata": {},
   "source": [
    "summary statistics of data set"
   ]
  },
  {
   "cell_type": "code",
   "execution_count": 12,
   "id": "26525152-01c2-43ce-8b4d-1720a337892f",
   "metadata": {},
   "outputs": [
    {
     "name": "stdout",
     "output_type": "stream",
     "text": [
      "             Name        Country  Weight            Height   Age  \\\n",
      "count        2381           2381    2381              2362  2354   \n",
      "unique        821             91     165                41    29   \n",
      "top     Amir Khan  \\r\\nThailand   Uknown  5'6\" FT / 170 CM  26 Y   \n",
      "freq           22           1264     827               284   212   \n",
      "\n",
      "                           Team Fight_Result                      Fight_Method  \n",
      "count                      2381         2369                              2369  \n",
      "unique                      448            3                               507  \n",
      "top     PK Saenchai Muaythaigym          WIN  Unanimous Decision \\r\\nR3 (3:00)  \n",
      "freq                        151         1216                               752  \n"
     ]
    }
   ],
   "source": [
    "print(data.describe())"
   ]
  },
  {
   "cell_type": "markdown",
   "id": "7debb215",
   "metadata": {},
   "source": [
    "Data types for each column"
   ]
  },
  {
   "cell_type": "code",
   "execution_count": 15,
   "id": "65652edf",
   "metadata": {},
   "outputs": [
    {
     "name": "stdout",
     "output_type": "stream",
     "text": [
      "Name            object\n",
      "Country         object\n",
      "Weight          object\n",
      "Height          object\n",
      "Age             object\n",
      "Team            object\n",
      "Fight_Result    object\n",
      "Fight_Method    object\n",
      "dtype: object\n"
     ]
    }
   ],
   "source": [
    "print(data.dtypes)\n"
   ]
  },
  {
   "cell_type": "markdown",
   "id": "06f0ce12",
   "metadata": {},
   "source": [
    "Counting all unique values within the fight method column"
   ]
  },
  {
   "cell_type": "code",
   "execution_count": 16,
   "id": "e554c1a0-9002-4b0a-98fd-02e52156ca38",
   "metadata": {},
   "outputs": [
    {
     "name": "stdout",
     "output_type": "stream",
     "text": [
      "Fight_Method\n",
      "Unanimous Decision \\r\\nR3 (3:00)    752\n",
      "Split Decision \\r\\nR3 (3:00)        170\n",
      "Unanimous Decision \\r\\nR3            71\n",
      "Majority Decision \\r\\nR3 (3:00)      62\n",
      "Unanimous Decision \\r\\nR3 (5:00)     49\n",
      "                                   ... \n",
      "Submission \\r\\nR1 (4:34)              1\n",
      "Submission \\r\\nR3 (1:13)              1\n",
      "Submission \\r\\nR1 (1:39)              1\n",
      "Knockout \\r\\nR3                       1\n",
      "Knockout \\r\\nR2                       1\n",
      "Name: count, Length: 507, dtype: int64\n"
     ]
    }
   ],
   "source": [
    "print(data['Fight_Method'].value_counts())"
   ]
  },
  {
   "cell_type": "markdown",
   "id": "f102cca1",
   "metadata": {},
   "source": [
    "Summary table of total wins and losses for each fighter"
   ]
  },
  {
   "cell_type": "code",
   "execution_count": 21,
   "id": "3cf4b293",
   "metadata": {},
   "outputs": [
    {
     "name": "stdout",
     "output_type": "stream",
     "text": [
      "                 Name  Total_Fights  Total_Wins  Total_Losses\n",
      "0       Aaron Canarte             2           0             2\n",
      "1     Abdallah Ondash             5           4             1\n",
      "2    Abdulla Dayakaev             5           4             1\n",
      "3         Adrian Pang             7           2             5\n",
      "4      Adriano Moraes            15          10             5\n",
      "..                ...           ...         ...           ...\n",
      "816      Zhang Chunyu             3           0             3\n",
      "817       Zhang Jinhu             4           2             2\n",
      "818       Zhang Shuai             3           2             1\n",
      "819     Zhang Wan Xin             2           1             1\n",
      "820       Zhao Bo Shi             3           2             1\n",
      "\n",
      "[821 rows x 4 columns]\n"
     ]
    }
   ],
   "source": [
    "summary_table = data.groupby('Name').agg(\n",
    "    Total_Fights =('Fight_Result' , 'count'),\n",
    "    Total_Wins =('Fight_Result', lambda x: (x == 'WIN').sum()),\n",
    "    Total_Losses = ('Fight_Result', lambda x: (x == 'LOSS').sum())\n",
    ").reset_index()\n",
    "\n",
    "print(summary_table)"
   ]
  },
  {
   "cell_type": "code",
   "execution_count": 22,
   "id": "6a0801eb",
   "metadata": {},
   "outputs": [
    {
     "name": "stderr",
     "output_type": "stream",
     "text": [
      "C:\\Users\\gary1\\AppData\\Local\\Temp\\ipykernel_5128\\956802122.py:4: FutureWarning:\n",
      "\n",
      "\n",
      "\n",
      "Passing `palette` without assigning `hue` is deprecated and will be removed in v0.14.0. Assign the `y` variable to `hue` and set `legend=False` for the same effect.\n",
      "\n",
      "\n"
     ]
    },
    {
     "data": {
      "image/png": "[encoded data removed]",
      "text/plain": [
       "<Figure size 1200x600 with 1 Axes>"
      ]
     },
     "metadata": {},
     "output_type": "display_data"
    }
   ],
   "source": [
    "top_fighters = summary_table.sort_values(by='Total_Wins', ascending=False).head(10)\n",
    "\n",
    "plt.figure(figsize=(12,6))\n",
    "sns.barplot(data=top_fighters, x='Total_Wins', y='Name', palette='viridis')\n",
    "\n",
    "plt.xlabel('Total Wins')\n",
    "plt.ylabel('Fighter Name')\n",
    "plt.title('Top 10 Fighters by Wins')\n",
    "plt.show()"
   ]
  },
  {
   "cell_type": "markdown",
   "id": "b913643b",
   "metadata": {},
   "source": [
    "Create one graph to quickly visualize your data using matplotlib. <br>\n",
    "Matplotlib color guide: https://i.sstatic.net/lFZum.png <br><br>\n",
    "It's okay if it is not visualy appealing or contains outliers, because we have not cleaned our data yet! Did you get any errors? If so, what were they? Would the errors have been avoided if you had cleaned the data first?<br>\n",
    "Data cleaning and transforming is very important when storing your data in a warehouse...ready for Assignment #2?"
   ]
  },
  {
   "cell_type": "markdown",
   "id": "251688bc-3597-4eec-b1e1-c1e24e090b93",
   "metadata": {},
   "source": [
    "## Dataset #2"
   ]
  },
  {
   "cell_type": "markdown",
   "id": "8ce67fcf",
   "metadata": {},
   "source": [
    "# Assignment #2 - Data Gathering and Warehousing - DSSA-5102\n",
    "\n",
    "Instructor: Melissa Laurino</br>\n",
    "Spring 2025</br>\n",
    "\n",
    "Our next objective is to choose <b>ONE</b> of the datasets from our previous assignment to explore further. The datasets we have chose for Assignment #1 can be cleaned by practicing our Python skills. Depending on your data, and especially the size of it, it may be more beneficial to clean in a language you are comfortable working in already instead of cleaning our data with a new language like SQL. SQL may be needed for cleaning of databases that are very large or hundreds of terabytes in size. We will clean our datasets first before we attempt to load them into our SQL databases. </br>\n",
    "Not only is data everywhere, but it can also be messy. Messy data can originate in the data collection process, whether this is occurring with manual data entry and typos, or with outdated collection forms that hold multiple variables that mean the same thing. For example, while collecting data on marine mammals, it is important to note who the observer is. With Python and R, reading excel or csv files, these languages will take the same variable written as, \"Melissa Laurino\" and \"melissa laurino\" as two separate observers because they are case sensitive. However, this is not accurate because they are meant to be the same person within the observer column or category.</br>\n",
    "Clean data is important for consistency that leads to accurate results and analysis. If we are using our data to make informed decisions in our field, we need it to be clean. We do not want to omit rows that may make a difference to our dataset because they do not fit a certain criteria due to typos, but how much should the original dataset be altered? Depending on your field, there may be regulations and compliance standards regarding data quality. Protocols may state if the data does not read exactly how it should be, then it should be ommitted. </br>\n",
    "For our learning objectives in this class, we will clean our data. Our first assignment in our warehousing journey was important because it allowed us to gain a better understanding of a dataset that we personally did not collect. Now that we have that understanding, we can explore it in greater depth and clean it as necessary.<br>\n",
    "<br>\n",
    "For Assignment #2, our objective is to clean one of the datasets explored above using Python to prepare for our future database from scratch. Include at a minimum:\n",
    "\n",
    "- The chosen dataset name, company/organization resonsible for data collection, the download link, and date of access.\n",
    "- Load neccessary packages and data (Only if you start a new session in Jupyter, not if you are continuing from above).\n",
    "- Make all column names lower case, contain no spaces, and no special characters (SQL will not like this otherwise).\n",
    "- *Make detailed comments with your code* <br>\n",
    "- *Record EVERYTHING ommitted and changed if necessary* <br>\n",
    "- Since we are exploring and learning without a specific organization policy, use your best judgement when ommitting records. If you have chosen to ommit data, please explain why.</br>\n",
    "- Save your new CLEAN data as a .csv file. \n",
    "\n",
    "\n",
    "Comment ALL code to recieve full credit. The above bullet points are to help guide you in your process, but extensive cleaning is expected for your data set (This will also save you a lot of time down the line!). \n",
    "<br>\n",
    "\n",
    "<br>\n",
    "<b>The code that I have written below is just to give you ideas on exploring and cleaning data. It is encouraged that you explore and clean it in greater detail than what I have written below for full credit.</b><br>"
   ]
  },
  {
   "cell_type": "markdown",
   "id": "b07cb638-34d9-4342-92bb-f405ae1789cd",
   "metadata": {},
   "source": [
    "<b>Dataset name: UFC Fight Statistics</b><br>\n",
    "<b>Company/Government Organization: </b><br>\n",
    "Download link: https://www.kaggle.com/datasets/alexmagnus24/ufc-fight-statistics-july-2016-nov-2024?select=UFC+Fight+Statistics+%28July+2016+-+Nov+2024%29.csv  <br>\n",
    "Date of Access: 02/11/2025"
   ]
  },
  {
   "cell_type": "markdown",
   "id": "a707f9e0-68fe-4304-8bbe-a13921b7bf78",
   "metadata": {},
   "source": [
    "Why did you choose to continue working with this dataset? <br>\n",
    "<br>\n",
    "<br>"
   ]
  },
  {
   "cell_type": "markdown",
   "id": "0826d508",
   "metadata": {},
   "source": [
    "There is a lot of information that can be used within this data set to look for trends in each fighter. "
   ]
  },
  {
   "cell_type": "markdown",
   "id": "671734a8-46a4-4d71-81e7-ce3c62f716b4",
   "metadata": {},
   "source": [
    "Make all column names lowercase, with no spaces or special characters:"
   ]
  },
  {
   "cell_type": "code",
   "execution_count": 2,
   "id": "cc47725b",
   "metadata": {},
   "outputs": [],
   "source": [
    "df = pd.read_csv(\"c:/Users/gary1/Documents/DSSA/Spring/UFC Fight Statistics (July 2016 - Nov 2024).csv\")"
   ]
  },
  {
   "cell_type": "code",
   "execution_count": 4,
   "id": "eb214246",
   "metadata": {},
   "outputs": [
    {
     "name": "stderr",
     "output_type": "stream",
     "text": [
      "PandasGUI INFO — pandasgui.gui — Opening PandasGUI\n",
      "c:\\Python312\\Lib\\site-packages\\pandasgui\\widgets\\column_viewer.py:107: FutureWarning: Series.__getitem__ treating keys as positions is deprecated. In a future version, integer keys will always be treated as labels (consistent with DataFrame behavior). To access a value by position, use `ser.iloc[pos]`\n",
      "  [str(sources[i]), str(source_nunique[i]), str(source_types[i])])\n",
      "c:\\Python312\\Lib\\site-packages\\pandasgui\\widgets\\column_viewer.py:107: FutureWarning: Series.__getitem__ treating keys as positions is deprecated. In a future version, integer keys will always be treated as labels (consistent with DataFrame behavior). To access a value by position, use `ser.iloc[pos]`\n",
      "  [str(sources[i]), str(source_nunique[i]), str(source_types[i])])\n",
      "c:\\Python312\\Lib\\site-packages\\pandasgui\\widgets\\column_viewer.py:107: FutureWarning:\n",
      "\n",
      "Series.__getitem__ treating keys as positions is deprecated. In a future version, integer keys will always be treated as labels (consistent with DataFrame behavior). To access a value by position, use `ser.iloc[pos]`\n",
      "\n",
      "c:\\Python312\\Lib\\site-packages\\pandasgui\\widgets\\column_viewer.py:107: FutureWarning:\n",
      "\n",
      "Series.__getitem__ treating keys as positions is deprecated. In a future version, integer keys will always be treated as labels (consistent with DataFrame behavior). To access a value by position, use `ser.iloc[pos]`\n",
      "\n",
      "c:\\Python312\\Lib\\site-packages\\pandasgui\\widgets\\column_viewer.py:107: FutureWarning:\n",
      "\n",
      "Series.__getitem__ treating keys as positions is deprecated. In a future version, integer keys will always be treated as labels (consistent with DataFrame behavior). To access a value by position, use `ser.iloc[pos]`\n",
      "\n",
      "c:\\Python312\\Lib\\site-packages\\pandasgui\\widgets\\column_viewer.py:107: FutureWarning:\n",
      "\n",
      "Series.__getitem__ treating keys as positions is deprecated. In a future version, integer keys will always be treated as labels (consistent with DataFrame behavior). To access a value by position, use `ser.iloc[pos]`\n",
      "\n"
     ]
    },
    {
     "data": {
      "text/plain": [
       "<pandasgui.gui.PandasGui at 0x22e482c0830>"
      ]
     },
     "execution_count": 4,
     "metadata": {},
     "output_type": "execute_result"
    }
   ],
   "source": [
    "show(df)"
   ]
  },
  {
   "cell_type": "code",
   "execution_count": null,
   "id": "96de4afc",
   "metadata": {},
   "outputs": [],
   "source": [
    "# Setting up the columns I want to keep for the final dataset\n",
    "columns_to_keep = [\"Fighter1\", \"Fighter2\", \"Winner?\", \"Fight Method\", \"Time\", \"Referee\", \"Bout\", \"Event Name\"]\n",
    "\n",
    "df_cleaned = df[columns_to_keep].copy()\n",
    "\n",
    "# Renamed key columns for clarity\n",
    "rename_dict = {\n",
    "    \"Fighter1\": \"Fighter_A\",\n",
    "    \"Fighter2\": \"Fighter_B\",\n",
    "    \"Winner?\": \"Winner\",\n",
    "    \"Fight Method\": \"Method\",\n",
    "    \"Time\": \"Fight_Time\",\n",
    "    \"Referee\": \"Referee\",\n",
    "    \"Bout\": \"Weight_Class\",\n",
    "    \"Event Name\": \"Event\"\n",
    "}\n",
    "df_cleaned.rename(columns=rename_dict, inplace=True)\n",
    "\n",
    "\n",
    "rounds = [1, 2, 3, 4, 5]  # List containing maximum possible rounds\n",
    "fighter_stats = [\"Total Strike Landed\", \"Total Strike Missed\", \"Knockdowns\",\n",
    "                 \"TD Completed\", \"TD Missed\", \"Sub. Att\", \"Ctrl Time (Minutes)\"]  # list of columns used for getting the sum of stats for each round\n",
    "\n",
    "summed_stats = {}\n",
    "\n",
    "for stat in fighter_stats:  # Loops through each fight statistic\n",
    "    for fighter in [\"F1\", \"F2\"]: # Nested loop to process stats spearately for Fighter 1 and 2\n",
    "        cols_to_sum = [f\"{stat} {fighter}R{r}\" for r in rounds if f\"{stat} {fighter}R{r}\" in df.columns] # List comprehension of column names for specified stat and fighter covering all rounds.\n",
    "        if cols_to_sum: # If the columns exist, get a sum of all values across rounds for the fighter\n",
    "            summed_stats[f\"{stat} {fighter}\"] = df[cols_to_sum].sum(axis=1, skipna=True)\n",
    "\n",
    "# Creating a new data frame from the sum of fighter stats\n",
    "df_summed_stats = pd.DataFrame(summed_stats)\n",
    "\n",
    "# Rename columns for clarity\n",
    "rename_summed = {col: col.replace(\"F1\", \"A\").replace(\"F2\", \"B\") for col in df_summed_stats.columns}\n",
    "df_summed_stats.rename(columns=rename_summed, inplace=True)\n",
    "\n",
    "# Merge the aggregated statistics into the final cleaned data frame\n",
    "df_cleaned = pd.concat([df_cleaned, df_summed_stats], axis=1)\n",
    "\n",
    "# Readded the time format column to show what fights were 3 rounds or 5 rounds\n",
    "if \"Time Format\" in df.columns:\n",
    "    df_cleaned[\"Rounds\"] = df[\"Time Format\"].str.extract(r\"(\\d) Rnd\")[0].astype(float)\n"
   ]
  },
  {
   "cell_type": "code",
   "execution_count": 11,
   "id": "eb86068e",
   "metadata": {},
   "outputs": [
    {
     "name": "stderr",
     "output_type": "stream",
     "text": [
      "PandasGUI INFO — pandasgui.gui — Opening PandasGUI\n",
      "c:\\Python312\\Lib\\site-packages\\pandasgui\\widgets\\column_viewer.py:107: FutureWarning:\n",
      "\n",
      "Series.__getitem__ treating keys as positions is deprecated. In a future version, integer keys will always be treated as labels (consistent with DataFrame behavior). To access a value by position, use `ser.iloc[pos]`\n",
      "\n",
      "c:\\Python312\\Lib\\site-packages\\pandasgui\\widgets\\column_viewer.py:107: FutureWarning:\n",
      "\n",
      "Series.__getitem__ treating keys as positions is deprecated. In a future version, integer keys will always be treated as labels (consistent with DataFrame behavior). To access a value by position, use `ser.iloc[pos]`\n",
      "\n",
      "c:\\Python312\\Lib\\site-packages\\pandasgui\\widgets\\column_viewer.py:107: FutureWarning:\n",
      "\n",
      "Series.__getitem__ treating keys as positions is deprecated. In a future version, integer keys will always be treated as labels (consistent with DataFrame behavior). To access a value by position, use `ser.iloc[pos]`\n",
      "\n",
      "c:\\Python312\\Lib\\site-packages\\pandasgui\\widgets\\column_viewer.py:107: FutureWarning:\n",
      "\n",
      "Series.__getitem__ treating keys as positions is deprecated. In a future version, integer keys will always be treated as labels (consistent with DataFrame behavior). To access a value by position, use `ser.iloc[pos]`\n",
      "\n",
      "c:\\Python312\\Lib\\site-packages\\pandasgui\\widgets\\column_viewer.py:107: FutureWarning:\n",
      "\n",
      "Series.__getitem__ treating keys as positions is deprecated. In a future version, integer keys will always be treated as labels (consistent with DataFrame behavior). To access a value by position, use `ser.iloc[pos]`\n",
      "\n",
      "c:\\Python312\\Lib\\site-packages\\pandasgui\\widgets\\column_viewer.py:107: FutureWarning:\n",
      "\n",
      "Series.__getitem__ treating keys as positions is deprecated. In a future version, integer keys will always be treated as labels (consistent with DataFrame behavior). To access a value by position, use `ser.iloc[pos]`\n",
      "\n"
     ]
    },
    {
     "data": {
      "text/plain": [
       "<pandasgui.gui.PandasGui at 0x22e1c6acb90>"
      ]
     },
     "execution_count": 11,
     "metadata": {},
     "output_type": "execute_result"
    }
   ],
   "source": [
    "show(df_cleaned)"
   ]
  },
  {
   "cell_type": "code",
   "execution_count": 12,
   "id": "57e6e8b1",
   "metadata": {},
   "outputs": [],
   "source": [
    "df_cleaned.columns = (df_cleaned.columns\n",
    "                      .str.lower()   # Turning column names to lowercase\n",
    "                      .str.replace(r\"[^\\w\\s\\-]\", \"\", regex=True) # Replacing special characters within column names\n",
    "                      .str.replace(\" \", \"_\")) # Replace spaces with _"
   ]
  },
  {
   "cell_type": "code",
   "execution_count": 14,
   "id": "cb333a28-a23b-40d6-b273-b2b6e2549179",
   "metadata": {},
   "outputs": [
    {
     "name": "stderr",
     "output_type": "stream",
     "text": [
      "PandasGUI INFO — pandasgui.gui — Opening PandasGUI\n",
      "c:\\Python312\\Lib\\site-packages\\pandasgui\\widgets\\column_viewer.py:107: FutureWarning:\n",
      "\n",
      "Series.__getitem__ treating keys as positions is deprecated. In a future version, integer keys will always be treated as labels (consistent with DataFrame behavior). To access a value by position, use `ser.iloc[pos]`\n",
      "\n",
      "c:\\Python312\\Lib\\site-packages\\pandasgui\\widgets\\column_viewer.py:107: FutureWarning:\n",
      "\n",
      "Series.__getitem__ treating keys as positions is deprecated. In a future version, integer keys will always be treated as labels (consistent with DataFrame behavior). To access a value by position, use `ser.iloc[pos]`\n",
      "\n",
      "c:\\Python312\\Lib\\site-packages\\pandasgui\\widgets\\column_viewer.py:107: FutureWarning:\n",
      "\n",
      "Series.__getitem__ treating keys as positions is deprecated. In a future version, integer keys will always be treated as labels (consistent with DataFrame behavior). To access a value by position, use `ser.iloc[pos]`\n",
      "\n",
      "c:\\Python312\\Lib\\site-packages\\pandasgui\\widgets\\column_viewer.py:107: FutureWarning:\n",
      "\n",
      "Series.__getitem__ treating keys as positions is deprecated. In a future version, integer keys will always be treated as labels (consistent with DataFrame behavior). To access a value by position, use `ser.iloc[pos]`\n",
      "\n",
      "c:\\Python312\\Lib\\site-packages\\pandasgui\\widgets\\column_viewer.py:107: FutureWarning:\n",
      "\n",
      "Series.__getitem__ treating keys as positions is deprecated. In a future version, integer keys will always be treated as labels (consistent with DataFrame behavior). To access a value by position, use `ser.iloc[pos]`\n",
      "\n",
      "c:\\Python312\\Lib\\site-packages\\pandasgui\\widgets\\column_viewer.py:107: FutureWarning:\n",
      "\n",
      "Series.__getitem__ treating keys as positions is deprecated. In a future version, integer keys will always be treated as labels (consistent with DataFrame behavior). To access a value by position, use `ser.iloc[pos]`\n",
      "\n"
     ]
    },
    {
     "data": {
      "text/plain": [
       "<pandasgui.gui.PandasGui at 0x22e1b2def00>"
      ]
     },
     "execution_count": 14,
     "metadata": {},
     "output_type": "execute_result"
    }
   ],
   "source": [
    "show(df_cleaned)"
   ]
  },
  {
   "cell_type": "code",
   "execution_count": 15,
   "id": "738acfbc-9371-4eb2-89f6-377d56bc0e69",
   "metadata": {},
   "outputs": [],
   "source": [
    "df_cleaned.to_csv(\"cleaned_ufc_fight_data.csv\", index=False)"
   ]
  },
  {
   "cell_type": "code",
   "execution_count": null,
   "id": "f1fb688b-a75b-4c29-a085-21b2507e10d1",
   "metadata": {},
   "outputs": [],
   "source": []
  },
  {
   "cell_type": "code",
   "execution_count": null,
   "id": "ea083254-a65e-4ebe-b136-b18961266f7b",
   "metadata": {},
   "outputs": [],
   "source": []
  },
  {
   "cell_type": "code",
   "execution_count": null,
   "id": "c8dd64aa-42a0-49f5-adc5-2fac9e4d105e",
   "metadata": {},
   "outputs": [],
   "source": []
  },
  {
   "cell_type": "code",
   "execution_count": null,
   "id": "cb7524c2-a52f-481d-943c-0bb4a418b5de",
   "metadata": {},
   "outputs": [],
   "source": []
  }
 ],
 "metadata": {
  "kernelspec": {
   "display_name": "Python 3",
   "language": "python",
   "name": "python3"
  },
  "language_info": {
   "codemirror_mode": {
    "name": "ipython",
    "version": 3
   },
   "file_extension": ".py",
   "mimetype": "text/x-python",
   "name": "python",
   "nbconvert_exporter": "python",
   "pygments_lexer": "ipython3",
   "version": "3.12.1"
  }
 },
 "nbformat": 4,
 "nbformat_minor": 5
}
